{
  "cells": [
    {
      "cell_type": "code",
      "execution_count": null,
      "metadata": {
        "colab": {
          "base_uri": "https://localhost:8080/"
        },
        "id": "zypj0OTLjH-w",
        "outputId": "b433e1a8-d58b-4005-fe08-8e4d36796014"
      },
      "outputs": [
        {
          "output_type": "stream",
          "name": "stdout",
          "text": [
            "Collecting pyngrok\n",
            "  Downloading pyngrok-7.1.6-py3-none-any.whl (22 kB)\n",
            "Requirement already satisfied: PyYAML>=5.1 in /usr/local/lib/python3.10/dist-packages (from pyngrok) (6.0.1)\n",
            "Installing collected packages: pyngrok\n",
            "Successfully installed pyngrok-7.1.6\n",
            "Collecting flask-cors\n",
            "  Downloading Flask_Cors-4.0.0-py2.py3-none-any.whl (14 kB)\n",
            "Requirement already satisfied: Flask>=0.9 in /usr/local/lib/python3.10/dist-packages (from flask-cors) (2.2.5)\n",
            "Requirement already satisfied: Werkzeug>=2.2.2 in /usr/local/lib/python3.10/dist-packages (from Flask>=0.9->flask-cors) (3.0.2)\n",
            "Requirement already satisfied: Jinja2>=3.0 in /usr/local/lib/python3.10/dist-packages (from Flask>=0.9->flask-cors) (3.1.3)\n",
            "Requirement already satisfied: itsdangerous>=2.0 in /usr/local/lib/python3.10/dist-packages (from Flask>=0.9->flask-cors) (2.2.0)\n",
            "Requirement already satisfied: click>=8.0 in /usr/local/lib/python3.10/dist-packages (from Flask>=0.9->flask-cors) (8.1.7)\n",
            "Requirement already satisfied: MarkupSafe>=2.0 in /usr/local/lib/python3.10/dist-packages (from Jinja2>=3.0->Flask>=0.9->flask-cors) (2.1.5)\n",
            "Installing collected packages: flask-cors\n",
            "Successfully installed flask-cors-4.0.0\n"
          ]
        }
      ],
      "source": [
        "!pip install pyngrok\n",
        "from tensorflow.keras.models import load_model\n",
        "from flask import Flask, request, jsonify\n",
        "from tensorflow.keras.preprocessing import image\n",
        "import numpy as np\n",
        "!pip install flask-cors\n",
        "from flask_cors import CORS"
      ]
    },
    {
      "cell_type": "code",
      "execution_count": 8,
      "metadata": {
        "colab": {
          "base_uri": "https://localhost:8080/"
        },
        "id": "7OLMjslnjOlW",
        "outputId": "a9b2cbf8-b8c4-4cbb-b656-b9e91d1abaf6"
      },
      "outputs": [
        {
          "output_type": "stream",
          "name": "stdout",
          "text": [
            "Public URL: NgrokTunnel: \"https://3431-35-196-131-226.ngrok-free.app\" -> \"http://localhost:5000\"\n"
          ]
        }
      ],
      "source": [
        "from pyngrok import ngrok\n",
        "ngrok.set_auth_token(\"2eeLAAbXjN7Gn2o2lY29SGLKpUc_3Y96D2YB2oLSMSJJJsbi8\")\n",
        "\n",
        "# Get the URL of the Flask app\n",
        "public_url = ngrok.connect(addr='http://localhost:5000')\n",
        "\n",
        "print('Public URL:', public_url)"
      ]
    },
    {
      "cell_type": "code",
      "execution_count": null,
      "metadata": {
        "id": "MQyrctQOp56k"
      },
      "outputs": [],
      "source": [
        "model = load_model('/content/tomato-disease-detection-model.h5')\n"
      ]
    },
    {
      "cell_type": "code",
      "execution_count": null,
      "metadata": {
        "colab": {
          "base_uri": "https://localhost:8080/"
        },
        "id": "V_Rbukr3lF_A",
        "outputId": "6c469b62-e697-437f-995f-745d7863a548"
      },
      "outputs": [
        {
          "output_type": "stream",
          "name": "stdout",
          "text": [
            " * Serving Flask app '__main__'\n",
            " * Debug mode: off\n"
          ]
        },
        {
          "output_type": "stream",
          "name": "stderr",
          "text": [
            "INFO:werkzeug:\u001b[31m\u001b[1mWARNING: This is a development server. Do not use it in a production deployment. Use a production WSGI server instead.\u001b[0m\n",
            " * Running on all addresses (0.0.0.0)\n",
            " * Running on http://127.0.0.1:5000\n",
            " * Running on http://172.28.0.12:5000\n",
            "INFO:werkzeug:\u001b[33mPress CTRL+C to quit\u001b[0m\n",
            "INFO:werkzeug:127.0.0.1 - - [29/Apr/2024 19:10:24] \"GET / HTTP/1.1\" 200 -\n"
          ]
        },
        {
          "output_type": "stream",
          "name": "stdout",
          "text": [
            "1/1 [==============================] - 0s 29ms/step\n"
          ]
        },
        {
          "output_type": "stream",
          "name": "stderr",
          "text": [
            "INFO:werkzeug:127.0.0.1 - - [29/Apr/2024 19:11:04] \"POST /predict HTTP/1.1\" 200 -\n"
          ]
        },
        {
          "output_type": "stream",
          "name": "stdout",
          "text": [
            "1/1 [==============================] - 0s 29ms/step\n"
          ]
        },
        {
          "output_type": "stream",
          "name": "stderr",
          "text": [
            "INFO:werkzeug:127.0.0.1 - - [29/Apr/2024 19:11:23] \"POST /predict HTTP/1.1\" 200 -\n"
          ]
        },
        {
          "output_type": "stream",
          "name": "stdout",
          "text": [
            "1/1 [==============================] - 0s 30ms/step\n"
          ]
        },
        {
          "output_type": "stream",
          "name": "stderr",
          "text": [
            "INFO:werkzeug:127.0.0.1 - - [29/Apr/2024 19:11:42] \"POST /predict HTTP/1.1\" 200 -\n"
          ]
        }
      ],
      "source": [
        "from flask import Flask\n",
        "from pyngrok import ngrok\n",
        "from PIL import Image\n",
        "import tensorflow as tf\n",
        "import numpy as np\n",
        "import json\n",
        "\n",
        "# Define your Flask app\n",
        "app = Flask(__name__)\n",
        "CORS(app)\n",
        "\n",
        "class_names = ['Bacterial-spot', 'Early-blight', 'Healthy', 'Late-blight',\n",
        "               'Leaf-mold', 'Mosaic-virus', 'Septoria-leaf-spot', 'Yellow-leaf-curl-virus']\n",
        "\n",
        "\n",
        "@app.route('/')\n",
        "def hello():\n",
        "    return 'Hello, World!'\n",
        "\n",
        "@app.route('/predict', methods=['POST'])\n",
        "def predict():\n",
        "    if 'file' not in request.files:\n",
        "        return jsonify({'error': 'No file uploaded'})\n",
        "\n",
        "\n",
        "\n",
        "    img = request.files['file']\n",
        "    img_array = np.array(Image.open(img).convert('RGB').resize((128, 128)))  # converting image to numpy array\n",
        "    # img_array = img_array / 255  # rescaling image\n",
        "    img_batch = tf.expand_dims(img_array, axis=0)  # creating image batch for prediction\n",
        "\n",
        "    # image prediction\n",
        "    pred = model.predict(img_batch)\n",
        "    if np.argmax(pred[0]) >= 8:\n",
        "      return {\n",
        "      'pred_class': \"Healthy\",\n",
        "      'pred_conf': 100,\n",
        "      'id':3\n",
        "      }\n",
        "\n",
        "# If pred length is not equal to 10, return the result dictionary\n",
        "\n",
        "    pred_class = class_names[np.argmax(pred[0])]  # getting predicted class\n",
        "    pred_conf = round(100 * np.max(pred[0]), 2)  # getting prediction confidence\n",
        "    # arr_list = pred.tolist()\n",
        "    # max_index = int(np.argmax(pred[0]))\n",
        "    pred_idx=1\n",
        "    for i in range (1,len(class_names)):\n",
        "      if class_names[i]==pred_class:\n",
        "        pred_idx=i+1\n",
        "        break\n",
        "\n",
        "    return {\n",
        "        'pred_class' :pred_class,\n",
        "        'pred_conf': pred_conf,\n",
        "        'id':pred_idx\n",
        "\n",
        "    }\n",
        "\n",
        "\n",
        "\n",
        "\n",
        "# Run your Flask app on host '0.0.0.0' to listen on all network interfaces\n",
        "app.run(host='0.0.0.0', port=5000, threaded=True, debug=False)\n",
        "\n",
        "# Start ngrok with the address of your Flask app\n",
        "# public_url = ngrok.connect(addr='http://localhost:5000')\n",
        "\n",
        "# print('Public URL:', public_url)\n"
      ]
    }
  ],
  "metadata": {
    "colab": {
      "provenance": []
    },
    "kernelspec": {
      "display_name": "Python 3",
      "name": "python3"
    },
    "language_info": {
      "name": "python"
    }
  },
  "nbformat": 4,
  "nbformat_minor": 0
}